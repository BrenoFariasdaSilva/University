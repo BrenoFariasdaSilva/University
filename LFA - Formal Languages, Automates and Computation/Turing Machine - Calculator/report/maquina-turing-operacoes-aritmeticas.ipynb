{
 "cells": [
  {
   "cell_type": "markdown",
   "metadata": {
    "id": "fFwyaeKBSxUK"
   },
   "source": [
    "\n",
    "# Tutorial Iterativo em Jupyter sobre Máquinas de Turing para Operações Aritméticas\n",
    "\n",
    "<img src=\"./figuras/banner-lfac.png\" alt=\"Banner\" width=\"40%\"/>\n",
    "\n",
    "\n",
    "__Breno Farias da Silva__ e __Thaynara Ribeiro Falcão dos Santos__\n",
    "\n",
    "e-mails: [BrenoFarias@alunos.utfpr.edu.br](mailto:BrenoFarias@alunos.utfpr.edu.br), [thaynararibeiro@alunos.utfpr.edu.br](mailto:thaynararibeiro@alunos.utfpr.edu.br)\n",
    "\n",
    "Universidade Tecnológica Federal do Paraná (UTFPR)\n",
    "\n",
    "Departamento Acadêmico de Computação (DACOM-CM)\n",
    "\n",
    "Curso de Bacharelado em Ciência da Computação.\n",
    "\n",
    "## Resumo\n",
    "\n",
    "O relatório está dividido em duas partes, a primeira reservada para\n",
    "dar uma introdução, de forma breve, ao conceito de Máquina de Turing, utilizado para desenvolver este trabalho, além da prepação de ambiente para a execução apropriada do projeto. Logo após, será discutido sobre as funcionalidades do projeto que conciste em como a Máquina de Turing realiza operações aritméticas, sendo elas a soma, subtração, multiplicação e divisão, assim como, a explicação do raciocínio desenvolvido nos trechos principais do algoritmo. Por fim, junto com as implementações feitas, será apresentado alguns testes para verificar a sua funcionalidade.\n",
    "\n"
   ]
  },
  {
   "cell_type": "markdown",
   "metadata": {
    "id": "O3gF69-Mofsf"
   },
   "source": [
    "## Introdução\n",
    "Este trabalho possui como objetivo reproduzir os modelos de Máquinas de Turing para cada operação aritmética no JFLAP com a execução de testes para a verificação do funcionamento do código. Bem como, a implementação das Máquinas de Turing utilizando a linguagem Python com o uso da biblioteca automata-lib. A máquina de Turing é composta pela 7-upla dada por: M = (Q, E, Γ, Q0, F, QAceita, QRejeita, δ). Q é um conjunto finito de estados, E é um alfabeto finito de símbolos, Γ é o alfabeto da fita (conjunto finito de símbolos), Q0 é o estado inicial, QAceita é o conjunto dos estados finais, QRejeita é o conjunto dos estados não finais e δ é a função de transição.\n"
   ]
  },
  {
   "cell_type": "markdown",
   "metadata": {},
   "source": [
    "# Máquinas de Turing\n",
    "\n",
    "A Máquina de Turing criada em 1936 por Alan Turing, possui o objetivo definir o que é ou não computavél. Ela é formada por três partes: fita, unidade de controle e função de transição. A fita é dividida em células que só armazenam um símbolo por vez, e também, é usada como dispositivo de entrada, saída e memória. Já a unidade de controle é constituída por uma unidade de leitura e gravação, podendo ser deslocada tanto para a direita, quanto para a esquerda, no decorrer da fita. A última parte, função de transição, comanda as leituras e gravações, o sentido e o estado da máquina. "
   ]
  },
  {
   "cell_type": "markdown",
   "metadata": {
    "id": "NsOC5oUKDg1e"
   },
   "source": [
    "## Preparação do Ambiente\n",
    "\n",
    "Inicialmente é necessário verificar se em sua máquina está instalado a linguagem de programação [Python] (https://www.tutorialsteacher.com/python/install-python). \n",
    "\n",
    "A biblioteca que auxilia na implementação de Máquinas de Estados e Autômatos, como [automata-lib](https://pypi.org/project/automata-lib/).\n",
    "\n",
    "Como iremos utilizar uma biblioteca externa, é necessário instalá-la usando o seguinte comando: \n"
   ]
  },
  {
   "cell_type": "code",
   "execution_count": null,
   "metadata": {
    "colab": {
     "base_uri": "https://localhost:8080/"
    },
    "id": "E0h4dKQPKZ-k",
    "outputId": "7642c694-1722-4c0f-bbad-a8b7e5752c93"
   },
   "outputs": [],
   "source": [
    "$ pip install automata-lib"
   ]
  },
  {
   "cell_type": "markdown",
   "metadata": {
    "id": "EHKowkgSVUi5"
   },
   "source": [
    "__Instalação do Jupyter no VSCode:__"
   ]
  },
  {
   "cell_type": "code",
   "execution_count": null,
   "metadata": {
    "colab": {
     "base_uri": "https://localhost:8080/"
    },
    "id": "DisvxsM3U9zq",
    "outputId": "b4302df8-fe7a-4740-e50a-9338be42481a"
   },
   "outputs": [],
   "source": [
    "jupyter notebook: https://code.visualstudio.com/docs/datascience/jupyter-notebooks"
   ]
  },
  {
   "cell_type": "markdown",
   "metadata": {},
   "source": [
    "# Operações Aritméticas\n",
    "\n",
    "A seguir, será apresentado a implementação, concatenada a explicação da lógica utilizada em cada função da calculadora desenvolvida na Máquina de Turing."
   ]
  },
  {
   "cell_type": "markdown",
   "metadata": {},
   "source": [
    "## Adição\n",
    "Aa implementação da adição utilizando Máquina de Turing começa recebendo um input de entrada, por exemplo, #EEEEE+EE#. A partir disso, a máquina verifica se a entrada está correta, ou seja, se o primeiro símbolo é o símbolo branco \"#\". Em seguida, se a verificação for dada como verdadeira, a máquina de Turing começa a computar a string de entrada. \n",
    "O algoritmo segue com a leitura de todos os símbolos \"E\" até que o primeiro símbolo de adição \"+\" seja encontrado. Quando isso acontece, é feito a troca do símbolo de adição \"+\" pelo símbolo anterior \"E\". Após isso, a máquina de Turing segue lendo a fita para a direita, até encontrar o primeiro símbolo branco \"#\". Por fim, ao encontrar o símbolo branco, faz a troca reversa, ou seja, troca o  último símbolo \"E\" pelo símbolo branco \"#, indicando o novo final da string. Com isso, o resultado da string fica: #EEEEEEE##, estando a máquina no estado de aceitação (\"halt).\n",
    "\n",
    "![Adição](figuras/adicao.png)\n",
    "\n",
    "__Figura 01:__ Máquina de Turing que faz Adição\n",
    "\n",
    "A implementação da MT pode ser vista no código 01."
   ]
  },
  {
   "cell_type": "markdown",
   "metadata": {},
   "source": [
    "__Código 01:__ Implementação da Máquina de Turing para Adição"
   ]
  },
  {
   "cell_type": "code",
   "execution_count": null,
   "metadata": {},
   "outputs": [
    {
     "ename": "",
     "evalue": "",
     "output_type": "error",
     "traceback": [
      "\u001b[1;31mRunning cells with 'Python 3.9.7 64-bit' requires ipykernel package.\n",
      "Run the following command to install 'ipykernel' into the Python environment. \n",
      "Command: '\"c:/Program Files/Python39/python.exe\" -m pip install ipykernel -U --user --force-reinstall'"
     ]
    }
   ],
   "source": [
    "from automata.tm.ntm import NTM\n",
    "\n",
    "# NTM que faz a operação de adição.\n",
    "ntmSUM = NTM(\n",
    "    states={'s0', 's1', 's2', 's3', 'halt'},\n",
    "    input_symbols={'1', '+'},\n",
    "    tape_symbols={'1', '+', '#'},\n",
    "    transitions={\n",
    "        's0': {\n",
    "            '#': {('s1', '#', 'R')}\n",
    "        },\n",
    "        's1': {\n",
    "            '1': {('s1', '1', 'R')},\n",
    "            '+': {('s2', '1', 'R')}\n",
    "        },\n",
    "        's2': {\n",
    "            '1': {('s2', '1', 'R')},\n",
    "            '#': {('s3', '#', 'L')}\n",
    "        },\n",
    "        's3': {\n",
    "            '1': {('halt', '#', 'N')}\n",
    "        }\n",
    "    },\n",
    "    initial_state='s0',\n",
    "    blank_symbol='#',\n",
    "    final_states={'halt'}\n",
    ")\n",
    "\n",
    "def sumTest():\n",
    "    print('TURING MACHINE - SUM:')\n",
    "    \n",
    "    sumInputs = [\n",
    "        '#11111+11#',\n",
    "        '#11111+111#',\n",
    "        '#111+11#',\n",
    "        '#1+11#',\n",
    "        '#11111111+1111111#',\n",
    "        '#11111+1#'\n",
    "    ]\n",
    "\n",
    "    for input in sumInputs:\n",
    "        print('Validate Input:',  ntmSUM.validate()) # Valida o input\n",
    "        if ntmSUM.accepts_input(input): # Se o input for aceitável, então o autômato aceita\n",
    "            ntmSUM.read_input(input).pop().print() # Lê o input e imprime o resultado\n",
    "\n",
    "def main():\n",
    "    sumTest()\n",
    "                \n",
    "# Execução do programa\n",
    "if __name__ == '__main__':\n",
    "    main()"
   ]
  },
  {
   "cell_type": "markdown",
   "metadata": {},
   "source": [
    "Função de Validação para verificar se a especificação está correta."
   ]
  },
  {
   "cell_type": "code",
   "execution_count": 17,
   "metadata": {},
   "outputs": [
    {
     "data": {
      "text/plain": [
       "True"
      ]
     },
     "execution_count": 17,
     "metadata": {},
     "output_type": "execute_result"
    }
   ],
   "source": [
    "ntmSum.validate()  # returns True"
   ]
  },
  {
   "cell_type": "code",
   "execution_count": 18,
   "metadata": {},
   "outputs": [
    {
     "data": {
      "text/plain": [
       "<generator object NTM.read_input_stepwise at 0x7f7d881ac270>"
      ]
     },
     "execution_count": 18,
     "metadata": {},
     "output_type": "execute_result"
    }
   ],
   "source": [
    "ntmSum.read_input_stepwise('#EEEEE+EE#')"
   ]
  },
  {
   "cell_type": "markdown",
   "metadata": {},
   "source": [
    "O método/função `read_input(palavra)` verifica se a _palavra_ é aceita pela Máquina de Turing e retorna a configuração final para ela."
   ]
  },
  {
   "cell_type": "code",
   "execution_count": 22,
   "metadata": {},
   "outputs": [
    {
     "name": "stdout",
     "output_type": "stream",
     "text": [
      "halt: #EEEEEEE##\n",
      "              ^\n"
     ]
    }
   ],
   "source": [
    "ntmSum.read_input('#EEEEE+EE#')"
   ]
  },
  {
   "cell_type": "code",
   "execution_count": 19,
   "metadata": {},
   "outputs": [
    {
     "name": "stdout",
     "output_type": "stream",
     "text": [
      "accepted\n"
     ]
    }
   ],
   "source": [
    "if ntmSum.accepts_input('#EEEEE+EE#'):\n",
    "    print('accepted')\n",
    "else:\n",
    "    print('rejected')"
   ]
  },
  {
   "cell_type": "code",
   "execution_count": 32,
   "metadata": {},
   "outputs": [
    {
     "data": {
      "text/plain": [
       "<generator object NTM.read_input_stepwise at 0x7f7d8810e120>"
      ]
     },
     "execution_count": 32,
     "metadata": {},
     "output_type": "execute_result"
    }
   ],
   "source": [
    "ntmSum.read_input_stepwise('#EEEEE+EE#')"
   ]
  },
  {
   "cell_type": "code",
   "execution_count": 30,
   "metadata": {},
   "outputs": [
    {
     "name": "stdout",
     "output_type": "stream",
     "text": [
      "Verificando palavra: #E+E#\n",
      "aceita\n",
      "halt: #EE##\n",
      "         ^\n",
      "Verificando palavra: #E+EE#\n",
      "aceita\n",
      "halt: #EEE##\n",
      "          ^\n",
      "Verificando palavra: #EEEEE+EE#\n",
      "aceita\n",
      "halt: #EEEEEEE##\n",
      "              ^\n"
     ]
    }
   ],
   "source": [
    "def sumTest(): # Verifica as palavras de entrada\n",
    "    print('TURING MACHINE - SUM:')\n",
    "    \n",
    "    sumInputs = [\n",
    "        '#11111+11#',\n",
    "        '#11111+111#',\n",
    "        '#111+11#',\n",
    "        '#1+11#',\n",
    "        '#11111111+1111111#',\n",
    "        '#11111+1#'\n",
    "    ]\n",
    "\n",
    "    for input in sumInputs:\n",
    "        print('Validate Input:',  ntmSUM.validate()) # Valida o input\n",
    "        if ntmSUM.accepts_input(input): # Se o input for aceitável, então o autômato aceita\n",
    "            ntmSUM.read_input(input).pop().print() # Lê o input e imprime o resultado\n"
   ]
  },
  {
   "cell_type": "markdown",
   "metadata": {},
   "source": [
    "## Subtração\n",
    "\n",
    "Para realizar a opreção de subtração a máquina recebe um input, por exemplo, #EE-EE#. A partir disso, a máquina verifica se a entrada está correta, ou seja, se o primeiro símbolo é o símbolo branco \"#\". Em seguida, se a verificação for dada como verdadeira, a Máquina de Turing começa a computar a string de entrada. \n",
    "O algoritmo seguido é dado pela leitura do primeiro símbolo \"E\" até que o primeiro símbolo de subtração \"-\" seja encontrado. Quando isso acontece, a Máquina de Turing vai caminhando para a direita na fita até o último símbolo \"E\", após o símbolo de subtração seja encontrado. Depois disso, a Máquina de Turing segue movendo a fita para a esquerda até encontrar o primeiro simbolo branco \"#\" do lado esquerdo do símbolo de subtração. Após isso, o algoritmo segue seguindo a lógica de, para cada símbolo \"E\" retirado na esquerda, retira-se outro símbolo \"E\" na direita e substitui pelo símbolo \"#\". Após todos os símbolos \"E\" da esquerda terem sido retirados, o resultado será o número de símbolos \"E\" contidos na string final.\n",
    "\n",
    "![Subtração](figuras/subtracao.png)\n",
    "__Figura 02:__ Máquina de Turing que faz Subtração\n",
    "\n",
    "A implementação da MT pode ser vista no código 02."
   ]
  },
  {
   "cell_type": "code",
   "execution_count": null,
   "metadata": {},
   "outputs": [],
   "source": [
    "from automata.tm.ntm import NTM\n",
    "\n",
    "# NMT que faz a operação de subtração.\n",
    "ntmSUBTRACTION = NTM(\n",
    "    states={'s0', 's1', 's2', 's3', 's4', 's5', 's6', 's7', 's8', 'halt'},\n",
    "    input_symbols={'1', '-'},\n",
    "    tape_symbols={'1', '-', '#'},\n",
    "    transitions={\n",
    "        's0': {\n",
    "            '#': {('s1', '#', 'R')}\n",
    "        },\n",
    "        's1': {\n",
    "            '1': {('s2', '#', 'R')}\n",
    "        },\n",
    "        's2': {\n",
    "            '1': {('s2', '1', 'R')},\n",
    "            '-': {('s3', '-', 'R')}\n",
    "        },\n",
    "        's3': {\n",
    "            '1': {('s3', '1', 'R')},\n",
    "            '#': {('s4', '#', 'L')}\n",
    "        },\n",
    "        's4': {\n",
    "            '1': {('s5', '#', 'L')}\n",
    "        },\n",
    "        's5': {\n",
    "            '1': {('s6', '1', 'L')},\n",
    "            '-': {('halt', '#', 'N')}\n",
    "        },\n",
    "        's6': {\n",
    "            '1': {('s6', '1', 'L')},\n",
    "            '-': {('s7', '-', 'L')},\n",
    "        },\n",
    "        's7': {\n",
    "            '1': {('s8', '1', 'L')},\n",
    "            '#': {('halt', '#', 'N')}\n",
    "        },\n",
    "        's8': {\n",
    "            '1': {('s8', '1', 'L')},\n",
    "            '#': {('s1', '#', 'R')}\n",
    "        }\n",
    "    },\n",
    "    initial_state='s0',\n",
    "    blank_symbol='#',\n",
    "    final_states={'halt'}\n",
    ")\n",
    "\n",
    "def subtractionTest():\n",
    "    print('TURING MACHINE - SUBTRACTION:')\n",
    "    \n",
    "    subtractionInputs = [\n",
    "        '#11111-11#',\n",
    "        '#11111-111#',\n",
    "        '#111-11#',\n",
    "        '#1-1#',\n",
    "        '#11111111-1111111#',\n",
    "        '#11111-1#'\n",
    "    ]\n",
    "\n",
    "    for input in subtractionInputs:\n",
    "        print('Validate Input:',  ntmSUBTRACTION.validate()) # Valida o input\n",
    "        if ntmSUBTRACTION.accepts_input(input): # Se o input for aceitável, então o autômato aceita\n",
    "            ntmSUBTRACTION.read_input(input).pop().print() # Lê o input e imprime o resultado\n",
    "\n",
    "def main():\n",
    "    subtractionTest()\n",
    "                \n",
    "# Execução do programa\n",
    "if __name__ == '__main__':\n",
    "    main()"
   ]
  },
  {
   "cell_type": "markdown",
   "metadata": {},
   "source": [
    "Função de Validação para verificar se a especificação está correta."
   ]
  },
  {
   "cell_type": "code",
   "execution_count": null,
   "metadata": {},
   "outputs": [],
   "source": [
    "ntmSubtraction.validate()  # returns True"
   ]
  },
  {
   "cell_type": "markdown",
   "metadata": {},
   "source": [
    "True"
   ]
  },
  {
   "cell_type": "code",
   "execution_count": null,
   "metadata": {},
   "outputs": [],
   "source": [
    "ntmSubtraction.read_input_stepwise('#EE-EE#')"
   ]
  },
  {
   "cell_type": "markdown",
   "metadata": {},
   "source": [
    "<generator object NTM.read_input_stepwise at 0x7f7d881ac270>"
   ]
  },
  {
   "cell_type": "markdown",
   "metadata": {},
   "source": [
    "O método/função `read_input(palavra)` verifica se a _palavra_ é aceita pela Máquina de Turing e retorna a configuração final para ela.\n"
   ]
  },
  {
   "cell_type": "code",
   "execution_count": null,
   "metadata": {},
   "outputs": [],
   "source": [
    "ntmSubtraction.read_input('#EE-EE#')"
   ]
  },
  {
   "cell_type": "markdown",
   "metadata": {},
   "source": [
    "halt: #######\n",
    "\t\t\t"
   ]
  },
  {
   "cell_type": "code",
   "execution_count": null,
   "metadata": {},
   "outputs": [],
   "source": [
    "if ntmSubtraction.accepts_input('#EEEEE-EE#'):\n",
    "    print('accepted')\n",
    "else:\n",
    "    print('rejected')"
   ]
  },
  {
   "cell_type": "markdown",
   "metadata": {},
   "source": [
    "accepted"
   ]
  },
  {
   "cell_type": "code",
   "execution_count": null,
   "metadata": {},
   "outputs": [],
   "source": [
    "ntmSubtraction.read_input_stepwise('#EEEEE-EE#')"
   ]
  },
  {
   "cell_type": "markdown",
   "metadata": {},
   "source": [
    "<generator object NTM.read_input_stepwise at 0x7f7d881ac270>"
   ]
  },
  {
   "cell_type": "code",
   "execution_count": null,
   "metadata": {},
   "outputs": [],
   "source": [
    "def subtractionTest():\n",
    "    print('TURING MACHINE - SUBTRACTION:')\n",
    "    \n",
    "    subtractionInputs = [\n",
    "        '#11111-11#',\n",
    "        '#11111-111#',\n",
    "        '#111-11#',\n",
    "        '#1-1#',\n",
    "        '#11111111-1111111#',\n",
    "        '#11111-1#'\n",
    "    ]\n",
    "\n",
    "    for input in subtractionInputs:\n",
    "        print('Validate Input:',  ntmSUBTRACTION.validate()) # Valida o input\n",
    "        if ntmSUBTRACTION.accepts_input(input): # Se o input for aceitável, então o autômato aceita\n",
    "            ntmSUBTRACTION.read_input(input).pop().print() # Lê o input e imprime o resultado"
   ]
  },
  {
   "cell_type": "markdown",
   "metadata": {},
   "source": [
    "Verificando palavra: #E-E#\n",
    "\n",
    "aceita\n",
    "\n",
    "halt: #####\n",
    "         ^\n",
    "\n",
    "Verificando palavra: #EE-E#\n",
    "\n",
    "aceita\n",
    "\n",
    "halt: #E####\n",
    "          ^    \n",
    "          \n",
    "Verificando palavra: #EEEEE-EE#\n",
    "\n",
    "aceita\n",
    "\n",
    "halt: #EEE#####"
   ]
  },
  {
   "cell_type": "markdown",
   "metadata": {},
   "source": [
    "## Multiplicação\n",
    "\n",
    "AO algoritmos para realizar a operação de multiplicação na Máquina de Turing começa com a máquina recebendo um input, por exemplo, #11*111####. A partir disso, a máquina verifica se a entrada está correta, ou seja, se o primeiro símbolo é o símbolo branco \"#\". Em seguida, se a verificação for dada como verdadeira, a Máquina de Turing começa a computar a string de entrada. \n",
    "O algoritmo seguido é dado pela leitura do primeiro símbolo \"1\". Quando esse símbolo é detectado, a Máquina percorre a fita toda para a direita até encontrar o símbolo \"1\" após o símbolo da operação de multiplicação \"x\". Dado isso, a máquina de Turing escreve \"E\" em todos os símbolos \"1\" após o símbolo de multiplicação. Após isso, volta novamente para a esquerda até encontrar o primeiro símbolo branco \"#\" que encontra-se a esquerda do símbolo de multiplicação. Sendo assim, novamente repete-se os processos anteriores de, para cada símbolo \"1\" do lado esquerdo, ele escrever novos símbolos do lado direito. Por fim, após a string não conter símbolos \"1\", ela troca todos os símbolos na string que não são o símbolo branco \"#\" e trocam por \"1\". Dessa forma, o resultado é dado pela quantidade de símbolos \"1\" contidos na string. \n",
    "\n",
    "![Multiplicação](figuras/multiply.jff.png)\n",
    "__Figura 03:__ Máquina de Turing que faz Multiplicação\n",
    "\n",
    "A implementação da MT pode ser vista no código 03."
   ]
  },
  {
   "cell_type": "code",
   "execution_count": null,
   "metadata": {},
   "outputs": [],
   "source": [
    "from automata.tm.ntm import NTM\n",
    "\n",
    "# NTM que faz a operação de multiplicação.\n",
    "ntmMULTIPLICATION = NTM(\n",
    "    states={'s0', 's1', 's2', 's3', 's4', 's5', 's6', 's7', 's8', 's9' ,'halt'},\n",
    "    input_symbols={'1', '*'},\n",
    "    tape_symbols={'1', '*', '#', 'Z', 'E'},\n",
    "    transitions={\n",
    "        's0': {\n",
    "            '1': {('s1', '#', 'R')},\n",
    "            '#': {('s0', '#', 'R')} \n",
    "        },\n",
    "        's1': {\n",
    "            '1': {('s4', '1', 'R')},\n",
    "            '*': {('s2', '1', 'R')}\n",
    "        },\n",
    "        's2': {\n",
    "            '1': {('s2', '1', 'R')},\n",
    "            'Z': {('s2', '1', 'R')},\n",
    "            '#': {('s3', '#', 'L')}\n",
    "        },\n",
    "        's3': {\n",
    "            '1': {('halt', '#', 'N')}\n",
    "        },\n",
    "        's4': {\n",
    "            '1': {('s4', '1', 'R')},\n",
    "            '*': {('s5', '*', 'R')}\n",
    "        },\n",
    "        's5': {\n",
    "            '1': {('s6', 'E', 'R')},\n",
    "            'Z': {('s8', 'Z', 'L')}\n",
    "        },\n",
    "        's6': {\n",
    "            '1': {('s6', '1', 'R')},\n",
    "            'Z': {('s6', 'Z', 'R')},\n",
    "            '#': {('s7', 'Z', 'L')}\n",
    "        },\n",
    "        's7': {\n",
    "            '1': {('s7', '1', 'L')},\n",
    "            'E': {('s5', 'E', 'R')},\n",
    "            'Z': {('s7', 'Z', 'L')}\n",
    "        },\n",
    "        's8': {\n",
    "            'E': {('s8', '1', 'L')},\n",
    "            '*': {('s9', '*', 'L')}\n",
    "        },\n",
    "        's9': {\n",
    "            '1': {('s9', '1', 'L')},\n",
    "            '#': {('s0', '#', 'R')}\n",
    "        }\n",
    "    },\n",
    "    initial_state='s0',\n",
    "    blank_symbol='#',\n",
    "    final_states={'halt'}\n",
    ")\n",
    "\n",
    "def multiplicationTest():\n",
    "    print('TURING MACHINE - MULTIPLICATION:')\n",
    "    \n",
    "    multiplicationInputs = [\n",
    "            '#11111*11####',\n",
    "            '#11111*111####',\n",
    "            '#11*11####',\n",
    "            '#1*1####',\n",
    "            '#11111*111111####',\n",
    "            '#1111*1####'\n",
    "    ]\n",
    "\n",
    "    for input in multiplicationInputs:\n",
    "        print('Validate Input:',  ntmMULTIPLICATION.validate()) # Valida o input\n",
    "        if ntmMULTIPLICATION.accepts_input(input): # Se o input for aceitável, então o autômato aceita\n",
    "            ntmMULTIPLICATION.read_input(input).pop().print() # Lê o input e imprime o resultado\n",
    "\n",
    "def main():\n",
    "    multiplicationTest()\n",
    "                \n",
    "# Execução do programa\n",
    "if __name__ == '__main__':\n",
    "    main()"
   ]
  },
  {
   "cell_type": "markdown",
   "metadata": {},
   "source": [
    "Função de Validação para verificar se a especificação está correta.\n"
   ]
  },
  {
   "cell_type": "code",
   "execution_count": null,
   "metadata": {},
   "outputs": [],
   "source": [
    "ntmMULTIPLICATION.validate()  # returns True"
   ]
  },
  {
   "cell_type": "markdown",
   "metadata": {},
   "source": [
    "True"
   ]
  },
  {
   "cell_type": "code",
   "execution_count": null,
   "metadata": {},
   "outputs": [],
   "source": [
    "ntmMULTIPLICATION.read_input_stepwise('#EEEEE*EE#')"
   ]
  },
  {
   "cell_type": "markdown",
   "metadata": {},
   "source": [
    "<generator object NTM.read_input_stepwise at 0x7f7d881ac270>"
   ]
  },
  {
   "cell_type": "markdown",
   "metadata": {},
   "source": [
    "O método/função `read_input(palavra)` verifica se a _palavra_ é aceita pela Máquina de Turing e retorna a configuração final para ela."
   ]
  },
  {
   "cell_type": "code",
   "execution_count": null,
   "metadata": {},
   "outputs": [],
   "source": [
    "ntmMULTIPLICATION.read_input('#EEE*EE#')"
   ]
  },
  {
   "cell_type": "markdown",
   "metadata": {},
   "source": [
    "halt: #EEEEEEE##\n",
    "              ^"
   ]
  },
  {
   "cell_type": "code",
   "execution_count": null,
   "metadata": {},
   "outputs": [],
   "source": [
    "if ntmMULTIPLICATION.accepts_input('#EEE*EE#'):\n",
    "    print('accepted')\n",
    "else:\n",
    "    print('rejected')"
   ]
  },
  {
   "cell_type": "markdown",
   "metadata": {},
   "source": [
    "accepted"
   ]
  },
  {
   "cell_type": "code",
   "execution_count": null,
   "metadata": {},
   "outputs": [],
   "source": [
    "ntmMULTIPLICATION.read_input_stepwise('#EEE*EE#')"
   ]
  },
  {
   "cell_type": "markdown",
   "metadata": {},
   "source": [
    "<generator object NTM.read_input_stepwise at 0x7f7d881ac270>"
   ]
  },
  {
   "cell_type": "code",
   "execution_count": null,
   "metadata": {},
   "outputs": [],
   "source": [
    "def multiplicationTest():\n",
    "    print('TURING MACHINE - MULTIPLICATION:')\n",
    "    \n",
    "    multiplicationInputs = [\n",
    "            '#11111*11####',\n",
    "            '#11111*111####',\n",
    "            '#11*11####',\n",
    "            '#1*1####',\n",
    "            '#11111*111111####',\n",
    "            '#1111*1####'\n",
    "    ]\n",
    "\n",
    "    for input in multiplicationInputs:\n",
    "        print('Validate Input:',  ntmMULTIPLICATION.validate()) # Valida o input\n",
    "        if ntmMULTIPLICATION.accepts_input(input): # Se o input for aceitável, então o autômato aceita\n",
    "            ntmMULTIPLICATION.read_input(input).pop().print() # Lê o input e imprime o resultado"
   ]
  },
  {
   "cell_type": "markdown",
   "metadata": {},
   "source": [
    "## Divisão\n",
    "\n",
    "\n",
    "Por fim, a operação de divisão é feita pela máquina recebendo um input, por exemplo, # 1111÷11####. A partir disso, a máquina verifica se a entrada está correta, ou seja, se o primeiro símbolo é o símbolo branco \"#\". Em seguida, se a verificação for dada como verdadeira, a Máquina de Turing começa a computar a string de entrada. \n",
    "O algoritmo seguido é dado pela leitura do primeiro símbolo \"1\". Quando esse símbolo é detectado, a Máquina percorre a fita toda para a direita até encontrar o último símbolo \"E\" após o símbolo da operação de divisão \"/\". Esse processo se repete até que todos os símbolos \"1\" do lado direito do símbolo de divisão \"/\" tenham sido trocados. Após isso, todos os símbolos \"E\" que estão do lado direito do símbolo de divisão \"/\" serão trocados de volta para \"1\". Agora, temos que colocar o símbolo \"Z\" após o último símbolo \"1\" do lado direito do símbolo de divisão \"/\". Logo após, vamos percorrer a fita toda para a esquerda até encontrar o primeiro símbolo \"1\". Agora vamos novamente trocar o símbolo \"1\" pelo símbolo branco \"#' e percorrer a fita toda para a direita até encontrar o último símbolo \"1\". Quando isso acontecer, trocamos esse símbolo \"1\" pelo símbolo \"E\" e voltamos novamente a fita toda para a esquerda e substituímos o \"1\" restante pelo símbolo branco \"#\". Do lado direito também trocamos o \"1\" restante pelo símbolo \"E\", como feito anteriormente. Por fim, trocamos o símbolo de divisão \"/\" pelo símbolo branco \"#\" e adicionamos, do lado direito, após o último símbolo \"Z\", o símbolo \"Z\" novamente. A string resultante é dada por \"######11ZZ##\"\n",
    "Dessa forma, o resultado é dado pela quantidade de símbolos \"1\" contidos na string. Os símbolos \"1\" serão trocados pelo símbolo branco \"#\" e os símbolos \"Z\" serão trocados pelo símbolo \"1\", resultando em \"########11##\" com a Máquina de Turing em um estado de aceitação(\"halt\").\n",
    "\n",
    "![Divisão](figuras/divisao.png)\n",
    "__Figura 04:__ Máquina de Turing que faz Divisão\n",
    "\n",
    "A implementação da MT pode ser vista no código 04."
   ]
  },
  {
   "cell_type": "markdown",
   "metadata": {},
   "source": [
    "![Divisão](figuras/divisao.png)"
   ]
  },
  {
   "cell_type": "code",
   "execution_count": null,
   "metadata": {},
   "outputs": [],
   "source": [
    "from automata.tm.ntm import NTM\n",
    "\n",
    "# NTM que faz a operação de divisão.\n",
    "ntmDIVISION = NTM(\n",
    "    states={'s0', 's1', 's2', 's3', 's4', 's5', 's6', 's7', 's8', 's9', 'halt'},\n",
    "    input_symbols={'1', '/'},\n",
    "    tape_symbols={'1', '/', '#', 'Z', 'E'},\n",
    "    transitions={\n",
    "        's0': {\n",
    "            '#': {('s1', '#', 'R')}\n",
    "        },\n",
    "        's1': {\n",
    "            '1': {('s2', '#', 'R')},\n",
    "            '/': {('s9', '#', 'R')}\n",
    "        },\n",
    "        's2': {\n",
    "            '1': {('s2', '1', 'R')},\n",
    "            '/': {('s3', '/', 'R')}\n",
    "        },\n",
    "        's3': {\n",
    "            '1': {('s3', '1', 'R')},\n",
    "            'E': {('s3', 'E', 'R')},\n",
    "            'Z': {('s4', 'Z', 'L')},\n",
    "            '#': {('s4', '#', 'L')}\n",
    "        },\n",
    "        's4': {\n",
    "            '1': {('s5', 'E', 'L')},\n",
    "            'E': {('s4', 'E', 'L')}\n",
    "        },\n",
    "        's5': {\n",
    "            '1': {('s7', '1', 'L')},\n",
    "            '/': {('s6', '/', 'R')}\n",
    "        },\n",
    "        's6': {\n",
    "            'E': {('s6', '1', 'R')},\n",
    "            'Z': {('s6', 'Z', 'R')},\n",
    "            '#': {('s7', 'Z', 'L')}\n",
    "        },\n",
    "        's7': {\n",
    "            '1': {('s7', '1', 'L')},\n",
    "            'Z': {('s7', 'Z', 'L')},\n",
    "            '/': {('s8', '/', 'L')}\n",
    "        },\n",
    "        's8': {\n",
    "            '1': {('s8', '1', 'L')},\n",
    "            '#': {('s1', '#', 'R')}\n",
    "        },\n",
    "        's9': {\n",
    "            '1': {('s9', '#', 'R')},\n",
    "            'Z': {('s9', '1', 'R')},\n",
    "            '#': {('halt', '#', 'N')}\n",
    "        }\n",
    "    },\n",
    "    initial_state='s0',\n",
    "    blank_symbol='#',\n",
    "    final_states={'halt'}\n",
    ")\n",
    "\n",
    "def divisionTest():\n",
    "    print('TURING MACHINE - DIVISION:')\n",
    "    \n",
    "    divisionInputs = [\n",
    "        '#1111/11####',\n",
    "        '#111111/11####',\n",
    "        '#11/11####',\n",
    "        '#11111111/1111####',\n",
    "        '#111111/11####',\n",
    "    ]\n",
    "\n",
    "    for input in divisionInputs:\n",
    "        print('Validate Input:',  ntmDIVISION.validate()) # Valida o input\n",
    "        if ntmDIVISION.accepts_input(input): # Se o input for aceitável, então o autômato aceita\n",
    "            ntmDIVISION.read_input(input).pop().print() # Lê o input e imprime o resultado\n",
    "\n",
    "def main():\n",
    "    divisionTest()\n",
    "                \n",
    "# Execução do programa\n",
    "if __name__ == '__main__':\n",
    "    main()"
   ]
  },
  {
   "cell_type": "markdown",
   "metadata": {},
   "source": [
    "Função de Validação para verificar se a especificação está correta."
   ]
  },
  {
   "cell_type": "code",
   "execution_count": null,
   "metadata": {},
   "outputs": [],
   "source": [
    "ntmDIVISION.validate()  # returns True"
   ]
  },
  {
   "cell_type": "markdown",
   "metadata": {},
   "source": [
    "True"
   ]
  },
  {
   "cell_type": "code",
   "execution_count": null,
   "metadata": {},
   "outputs": [],
   "source": [
    "ntmDIVISION.read_input_stepwise('#EEEEE+EE#')"
   ]
  },
  {
   "cell_type": "markdown",
   "metadata": {},
   "source": [
    "<generator object NTM.read_input_stepwise at 0x7f7d881ac270>"
   ]
  },
  {
   "cell_type": "markdown",
   "metadata": {},
   "source": [
    "O método/função `read_input(palavra)` verifica se a _palavra_ é aceita pela Máquina de Turing e retorna a configuração final para ela."
   ]
  },
  {
   "cell_type": "code",
   "execution_count": null,
   "metadata": {},
   "outputs": [],
   "source": [
    "ntmDIVISION.read_input('#EEEEE+EE#')"
   ]
  },
  {
   "cell_type": "markdown",
   "metadata": {},
   "source": [
    "halt: #EEEEEEE##\n",
    "              ^"
   ]
  },
  {
   "cell_type": "code",
   "execution_count": null,
   "metadata": {},
   "outputs": [],
   "source": [
    "if ntmDIVISION.accepts_input('#EEEEE+EE#'):\n",
    "    print('accepted')\n",
    "else:\n",
    "    print('rejected')"
   ]
  },
  {
   "cell_type": "markdown",
   "metadata": {},
   "source": [
    "accepted"
   ]
  },
  {
   "cell_type": "code",
   "execution_count": null,
   "metadata": {},
   "outputs": [],
   "source": [
    "ntmDIVISION.read_input_stepwise('#EEEEE+EE#')"
   ]
  },
  {
   "cell_type": "markdown",
   "metadata": {},
   "source": [
    "<generator object NTM.read_input_stepwise at 0x7f7d8810e120>"
   ]
  },
  {
   "cell_type": "code",
   "execution_count": null,
   "metadata": {},
   "outputs": [],
   "source": [
    "def divisionTest():\n",
    "    print('TURING MACHINE - DIVISION:')\n",
    "    \n",
    "    divisionInputs = [\n",
    "        '#1111/11####',\n",
    "        '#111111/11####',\n",
    "        '#11/11####',\n",
    "        '#11111111/1111####',\n",
    "        '#111111/11####',\n",
    "    ]\n",
    "\n",
    "    for input in divisionInputs:\n",
    "        print('Validate Input:',  ntmDIVISION.validate()) # Valida o input\n",
    "        if ntmDIVISION.accepts_input(input): # Se o input for aceitável, então o autômato aceita\n",
    "            ntmDIVISION.read_input(input).pop().print() # Lê o input e imprime o resultado"
   ]
  },
  {
   "cell_type": "markdown",
   "metadata": {
    "id": "3eyzSr_yKUO6"
   },
   "source": [
    "## Referências\n",
    "\n",
    "EZHILARASU P. __Construction of a Basic Calculator through the Turing\n",
    "Machine – A Review__ India: IJETA, 2015. Disponpivel em: http://www.ijetajournal.org/volume-2/issue-6/IJETA-V2I6P1.pdf. Acesso em: 21 jun. 2022\n",
    "\n",
    "SIPSER, M. __Introdução à teoria da computação.__ São Paulo: Cengage Learning, 2007. ISBN 9788522104994. Disponível em: https://search.ebscohost.com/login.aspx?direct=true&db=edsmib&AN=edsmib.000008725&lang=pt-br&site=eds-live&scope=site. Acesso em: 2 jun. 2022.\n",
    "\n",
    "MENEZES, P. B. __Linguagens formais e autômatos.__ Porto Alegre: Bookman, 2011. ISBN 9788577807994. Disponível em: https://search.ebscohost.com/login.aspx?direct=true&db=edsmib&AN=edsmib.000000444&lang=pt-br&site=eds-live&scope=site. Acesso em: 2 jun. 2022."
   ]
  }
 ],
 "metadata": {
  "colab": {
   "collapsed_sections": [],
   "include_colab_link": true,
   "name": "00-comp-introducao.ipynb",
   "provenance": [],
   "toc_visible": true
  },
  "kernelspec": {
   "display_name": "Python 3 (ipykernel)",
   "language": "python",
   "name": "python3"
  },
  "language_info": {
   "codemirror_mode": {
    "name": "ipython",
    "version": 3
   },
   "file_extension": ".py",
   "mimetype": "text/x-python",
   "name": "python",
   "nbconvert_exporter": "python",
   "pygments_lexer": "ipython3",
   "version": "3.9.12"
  },
  "vscode": {
   "interpreter": {
    "hash": "11938c6bc6919ae2720b4d5011047913343b08a43b18698fd82dedb0d4417594"
   }
  }
 },
 "nbformat": 4,
 "nbformat_minor": 1
}
