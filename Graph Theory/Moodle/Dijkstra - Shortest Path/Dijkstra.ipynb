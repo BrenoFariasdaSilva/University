{
 "cells": [
  {
   "cell_type": "markdown",
   "id": "b0d402cf",
   "metadata": {},
   "source": [
    "# Atividade: Exercícios Moodle sobre Caminho Mínimo usando Dijkstra\n",
    "\tAluno: Breno Farias da Silva \n",
    "\tRegistro do Aluno: 2300516 \n",
    "\tCurso: Bacharelado em Ciência da Computação \n",
    "\tDisciplina: BCC35B - Teoria dos Grafos - IC5A_CM \n",
    "\tCampus: Campo Mourão  \n",
    "\n",
    "----- Output  Exercício 01 -----:"
   ]
  },
  {
   "cell_type": "code",
   "execution_count": null,
   "id": "ca901241",
   "metadata": {},
   "outputs": [],
   "source": [
    "shortest path from A to D is 9"
   ]
  },
  {
   "cell_type": "markdown",
   "id": "3a8bfb0d",
   "metadata": {},
   "source": [
    "# ----- Output  Exercício 02 -----:"
   ]
  },
  {
   "cell_type": "code",
   "execution_count": null,
   "id": "96f8172a",
   "metadata": {},
   "outputs": [],
   "source": [
    "Seattle -> Seattle is 0 km\n",
    "Seattle -> Minneapolis is 2661 km\n",
    "Seattle -> Chicago is 3322 km\n",
    "Seattle -> Boston is 4935 km\n",
    "Seattle -> San Francisco is 1306 km\n",
    "Seattle -> Denver is 2161 km\n",
    "Seattle -> Washington DC is 4467 km\n",
    "Seattle -> New York is 4850 km\n",
    "Seattle -> Las Vegas is 2225 km\n",
    "Seattle -> Dallas is 3419 km\n",
    "Seattle -> Miami is 5580 km\n",
    "Seattle -> Los Angeles is 1935 km"
   ]
  },
  {
   "cell_type": "markdown",
   "id": "c05cc68d",
   "metadata": {},
   "source": [
    "# ----- Código Exercício 01 -----"
   ]
  },
  {
   "cell_type": "code",
   "execution_count": null,
   "id": "4abde500",
   "metadata": {},
   "outputs": [],
   "source": [
    "def Dijkstra(Graph, starting_vertex):\n",
    "\tarray_of_distances = [float('inf')] * len(Graph) # Create an array with the distances from the start edge to all the others\n",
    "\tarray_of_distances[starting_vertex] = 0 # The distance from the start edge to itself is 0\n",
    "\tQueue = set (range(len(Graph))) # Set of all the points\n",
    " \n",
    "\twhile (Queue):\n",
    "\t\tminimum = min(Queue, key = lambda x: array_of_distances[x]) # Get the edge with the minimum distance\n",
    "\t\tQueue.remove(minimum) # Remove the edge from the queue\n",
    "\t\tfor adjacent in Graph[minimum]: # For each adjacent edge\n",
    "\t\t\tif array_of_distances[minimum] + Graph[minimum][adjacent] < array_of_distances[adjacent]: # If the distance is less than the current distance\n",
    "\t\t\t\tarray_of_distances[adjacent] = array_of_distances[minimum] + Graph[minimum][adjacent] # Update the distance\n",
    "    \n",
    "\treturn array_of_distances # Return the array of distances\n",
    "\t\n",
    "def main():\n",
    "\tvertex_name = [\"A\", \"B\", \"C\", \"D\", \"E\", \"F\"]\n",
    "\traw_input = input().split()\n",
    "\tvertex = int(raw_input [0]) \n",
    "\tedges = int(raw_input [1]) \n",
    "\tGraph = {}\n",
    " \n",
    "\tfor i in range(vertex): # Create a graph with all the vertex\n",
    "\t\tGraph[i] = {} \n",
    "  \n",
    "\tfor i in range(edges): # Add the edges\n",
    "\t\traw_input = input().split() # Get the edges with its origin, destination and weight\n",
    "\t\torigin = int(raw_input [0])\n",
    "\t\tdestination = int(raw_input [1])\n",
    "\t\tweight = int(raw_input [2])\n",
    "\t\tGraph[origin][destination] = weight  # The weight of the edge\n",
    "  \n",
    "\traw_input = input().split() # Get the start and end points\n",
    "\tstarting_vertex = int(raw_input [0]) \n",
    "\tdestination_vertex = int(raw_input [1])\n",
    "\tarray_of_distances = Dijkstra(Graph, starting_vertex) # Get the array_of_distances from the start edge to all the others\n",
    "\tprint (\"shortest path from\" , vertex_name[starting_vertex] , \"to\" , vertex_name[destination_vertex] , \"is\" , array_of_distances[destination_vertex])\n",
    "\n",
    "if __name__ == "__main__":\n",
    "\tmain ()"
   ]
  },
  {
   "cell_type": "markdown",
   "id": "2039d547",
   "metadata": {},
   "source": [
    "# ----- Código Exercício 02 -----"
   ]
  },
  {
   "cell_type": "code",
   "execution_count": null,
   "id": "104e3dfb",
   "metadata": {},
   "outputs": [],
   "source": [
    "def Dijkstra(Graph, starting_vertex):\n",
    "\tarray_of_distances = [float('inf')] * len(Graph) # Create an array with the distances from the start edge to all the others\n",
    "\tarray_of_distances[starting_vertex] = 0 # The distance from the start edge to itself is 0\n",
    "\tQueue = set (range(len(Graph))) # Set of all the points\n",
    " \n",
    "\twhile (Queue):\n",
    "\t\tminimum = min(Queue, key = lambda x: array_of_distances[x]) # Get the edge with the minimum distance\n",
    "\t\tQueue.remove(minimum) # Remove the edge from the queue\n",
    "\t\tfor adjacent in Graph[minimum]: # For each adjacent edge\n",
    "\t\t\tif array_of_distances[minimum] + Graph[minimum][adjacent] < array_of_distances[adjacent]: # If the distance is less than the current distance\n",
    "\t\t\t\tarray_of_distances[adjacent] = array_of_distances[minimum] + Graph[minimum][adjacent] # Update the distance\n",
    "    \n",
    "\treturn array_of_distances # Return the array of distances\n",
    "\t\n",
    "def main():\n",
    "\tcities_name = [ \"Seattle\", \"Minneapolis\", \"Chicago\", \"Boston\", \"San Francisco\", \"Denver\", \"Washington DC\", \"New York\", \"Las Vegas\", \"Dallas\", \"Miami\", \"Los Angeles\" ]\n",
    "\traw_input = input().split()\n",
    "\tvertex = int(raw_input [0]) \n",
    "\tedges = int(raw_input [1]) \n",
    "\tGraph = {}\n",
    " \n",
    "\tfor i in range(vertex): # Create a graph with all the vertex\n",
    "\t\tGraph[i] = {} \n",
    "  \n",
    "\tfor i in range(edges): # Add the edges\n",
    "\t\traw_input = input().split() # Get the edges with its origin, destination and weight\n",
    "\t\torigin = int(raw_input [0]) - 1\n",
    "\t\tdestination = int(raw_input [1]) - 1\n",
    "\t\tweight = int(raw_input [2])\n",
    "\t\tGraph[origin][destination] = weight  # The weight of the edge\n",
    "\t\tGraph[destination][origin] = weight  # The weight of the edge\n",
    "  \n",
    "\tstarting_vertex = (int(input()) - 1) # Get the start point\n",
    "\tarray_of_distances = Dijkstra(Graph, starting_vertex) # Get the array_of_distances from the start edge to all the others\n",
    " \n",
    "\tfor i in range(len(cities_name)):\n",
    "\t\tprint(cities_name[starting_vertex] + \" -> \" + str(cities_name[i]) + \" is \" + str(array_of_distances[i]) + \" km\")\n",
    "\n",
    "if __name__ == "__main__":\n",
    "\tmain ()"
   ]
  }
 ],
 "metadata": {
  "kernelspec": {
   "display_name": "Python 3 (ipykernel)",
   "language": "python",
   "name": "python3"
  },
  "language_info": {
   "codemirror_mode": {
    "name": "ipython",
    "version": 3
   },
   "file_extension": ".py",
   "mimetype": "text/x-python",
   "name": "python",
   "nbconvert_exporter": "python",
   "pygments_lexer": "ipython3",
   "version": "3.10.6"
  }
 },
 "nbformat": 4,
 "nbformat_minor": 5
}
